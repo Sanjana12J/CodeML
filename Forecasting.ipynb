{
  "nbformat": 4,
  "nbformat_minor": 0,
  "metadata": {
    "colab": {
      "provenance": []
    },
    "kernelspec": {
      "name": "python3",
      "display_name": "Python 3"
    },
    "language_info": {
      "name": "python"
    }
  },
  "cells": [
    {
      "cell_type": "code",
      "execution_count": 1,
      "metadata": {
        "id": "koCuLj0Rw2ql"
      },
      "outputs": [],
      "source": [
        "#Importing the libraries\n",
        "import pandas as pd\n",
        "import numpy as np\n",
        "import matplotlib.pyplot as plt\n",
        "import keras"
      ]
    },
    {
      "cell_type": "code",
      "source": [
        "#Importing the data\n",
        "train= pd.read_csv('/content/Price_Train.csv')\n",
        "test= pd.read_csv('/content/Price_Test.csv')"
      ],
      "metadata": {
        "id": "Q-gsuCR7zPMH"
      },
      "execution_count": 3,
      "outputs": []
    },
    {
      "cell_type": "code",
      "source": [
        "train.head()\n"
      ],
      "metadata": {
        "colab": {
          "base_uri": "https://localhost:8080/",
          "height": 206
        },
        "id": "0Eq2E7AQzToR",
        "outputId": "b6f1891d-fd58-47f4-8958-d855c182b647"
      },
      "execution_count": 4,
      "outputs": [
        {
          "output_type": "execute_result",
          "data": {
            "text/plain": [
              "       Date    Open    High     Low   Close      Volume\n",
              "0  1/3/2012  325.25  332.83  324.97  663.59   7,380,500\n",
              "1  1/4/2012  331.27  333.87  329.08  666.45   5,749,400\n",
              "2  1/5/2012  329.83  330.75  326.89  657.21   6,590,300\n",
              "3  1/6/2012  328.34  328.77  323.68  648.24   5,405,900\n",
              "4  1/9/2012  322.04  322.29  309.46  620.76  11,688,800"
            ],
            "text/html": [
              "\n",
              "  <div id=\"df-3d602bb5-04e0-4559-92d0-6767496e53bb\" class=\"colab-df-container\">\n",
              "    <div>\n",
              "<style scoped>\n",
              "    .dataframe tbody tr th:only-of-type {\n",
              "        vertical-align: middle;\n",
              "    }\n",
              "\n",
              "    .dataframe tbody tr th {\n",
              "        vertical-align: top;\n",
              "    }\n",
              "\n",
              "    .dataframe thead th {\n",
              "        text-align: right;\n",
              "    }\n",
              "</style>\n",
              "<table border=\"1\" class=\"dataframe\">\n",
              "  <thead>\n",
              "    <tr style=\"text-align: right;\">\n",
              "      <th></th>\n",
              "      <th>Date</th>\n",
              "      <th>Open</th>\n",
              "      <th>High</th>\n",
              "      <th>Low</th>\n",
              "      <th>Close</th>\n",
              "      <th>Volume</th>\n",
              "    </tr>\n",
              "  </thead>\n",
              "  <tbody>\n",
              "    <tr>\n",
              "      <th>0</th>\n",
              "      <td>1/3/2012</td>\n",
              "      <td>325.25</td>\n",
              "      <td>332.83</td>\n",
              "      <td>324.97</td>\n",
              "      <td>663.59</td>\n",
              "      <td>7,380,500</td>\n",
              "    </tr>\n",
              "    <tr>\n",
              "      <th>1</th>\n",
              "      <td>1/4/2012</td>\n",
              "      <td>331.27</td>\n",
              "      <td>333.87</td>\n",
              "      <td>329.08</td>\n",
              "      <td>666.45</td>\n",
              "      <td>5,749,400</td>\n",
              "    </tr>\n",
              "    <tr>\n",
              "      <th>2</th>\n",
              "      <td>1/5/2012</td>\n",
              "      <td>329.83</td>\n",
              "      <td>330.75</td>\n",
              "      <td>326.89</td>\n",
              "      <td>657.21</td>\n",
              "      <td>6,590,300</td>\n",
              "    </tr>\n",
              "    <tr>\n",
              "      <th>3</th>\n",
              "      <td>1/6/2012</td>\n",
              "      <td>328.34</td>\n",
              "      <td>328.77</td>\n",
              "      <td>323.68</td>\n",
              "      <td>648.24</td>\n",
              "      <td>5,405,900</td>\n",
              "    </tr>\n",
              "    <tr>\n",
              "      <th>4</th>\n",
              "      <td>1/9/2012</td>\n",
              "      <td>322.04</td>\n",
              "      <td>322.29</td>\n",
              "      <td>309.46</td>\n",
              "      <td>620.76</td>\n",
              "      <td>11,688,800</td>\n",
              "    </tr>\n",
              "  </tbody>\n",
              "</table>\n",
              "</div>\n",
              "    <div class=\"colab-df-buttons\">\n",
              "\n",
              "  <div class=\"colab-df-container\">\n",
              "    <button class=\"colab-df-convert\" onclick=\"convertToInteractive('df-3d602bb5-04e0-4559-92d0-6767496e53bb')\"\n",
              "            title=\"Convert this dataframe to an interactive table.\"\n",
              "            style=\"display:none;\">\n",
              "\n",
              "  <svg xmlns=\"http://www.w3.org/2000/svg\" height=\"24px\" viewBox=\"0 -960 960 960\">\n",
              "    <path d=\"M120-120v-720h720v720H120Zm60-500h600v-160H180v160Zm220 220h160v-160H400v160Zm0 220h160v-160H400v160ZM180-400h160v-160H180v160Zm440 0h160v-160H620v160ZM180-180h160v-160H180v160Zm440 0h160v-160H620v160Z\"/>\n",
              "  </svg>\n",
              "    </button>\n",
              "\n",
              "  <style>\n",
              "    .colab-df-container {\n",
              "      display:flex;\n",
              "      gap: 12px;\n",
              "    }\n",
              "\n",
              "    .colab-df-convert {\n",
              "      background-color: #E8F0FE;\n",
              "      border: none;\n",
              "      border-radius: 50%;\n",
              "      cursor: pointer;\n",
              "      display: none;\n",
              "      fill: #1967D2;\n",
              "      height: 32px;\n",
              "      padding: 0 0 0 0;\n",
              "      width: 32px;\n",
              "    }\n",
              "\n",
              "    .colab-df-convert:hover {\n",
              "      background-color: #E2EBFA;\n",
              "      box-shadow: 0px 1px 2px rgba(60, 64, 67, 0.3), 0px 1px 3px 1px rgba(60, 64, 67, 0.15);\n",
              "      fill: #174EA6;\n",
              "    }\n",
              "\n",
              "    .colab-df-buttons div {\n",
              "      margin-bottom: 4px;\n",
              "    }\n",
              "\n",
              "    [theme=dark] .colab-df-convert {\n",
              "      background-color: #3B4455;\n",
              "      fill: #D2E3FC;\n",
              "    }\n",
              "\n",
              "    [theme=dark] .colab-df-convert:hover {\n",
              "      background-color: #434B5C;\n",
              "      box-shadow: 0px 1px 3px 1px rgba(0, 0, 0, 0.15);\n",
              "      filter: drop-shadow(0px 1px 2px rgba(0, 0, 0, 0.3));\n",
              "      fill: #FFFFFF;\n",
              "    }\n",
              "  </style>\n",
              "\n",
              "    <script>\n",
              "      const buttonEl =\n",
              "        document.querySelector('#df-3d602bb5-04e0-4559-92d0-6767496e53bb button.colab-df-convert');\n",
              "      buttonEl.style.display =\n",
              "        google.colab.kernel.accessAllowed ? 'block' : 'none';\n",
              "\n",
              "      async function convertToInteractive(key) {\n",
              "        const element = document.querySelector('#df-3d602bb5-04e0-4559-92d0-6767496e53bb');\n",
              "        const dataTable =\n",
              "          await google.colab.kernel.invokeFunction('convertToInteractive',\n",
              "                                                    [key], {});\n",
              "        if (!dataTable) return;\n",
              "\n",
              "        const docLinkHtml = 'Like what you see? Visit the ' +\n",
              "          '<a target=\"_blank\" href=https://colab.research.google.com/notebooks/data_table.ipynb>data table notebook</a>'\n",
              "          + ' to learn more about interactive tables.';\n",
              "        element.innerHTML = '';\n",
              "        dataTable['output_type'] = 'display_data';\n",
              "        await google.colab.output.renderOutput(dataTable, element);\n",
              "        const docLink = document.createElement('div');\n",
              "        docLink.innerHTML = docLinkHtml;\n",
              "        element.appendChild(docLink);\n",
              "      }\n",
              "    </script>\n",
              "  </div>\n",
              "\n",
              "\n",
              "<div id=\"df-8b70c644-44d0-44f3-98cd-ce9f48055251\">\n",
              "  <button class=\"colab-df-quickchart\" onclick=\"quickchart('df-8b70c644-44d0-44f3-98cd-ce9f48055251')\"\n",
              "            title=\"Suggest charts\"\n",
              "            style=\"display:none;\">\n",
              "\n",
              "<svg xmlns=\"http://www.w3.org/2000/svg\" height=\"24px\"viewBox=\"0 0 24 24\"\n",
              "     width=\"24px\">\n",
              "    <g>\n",
              "        <path d=\"M19 3H5c-1.1 0-2 .9-2 2v14c0 1.1.9 2 2 2h14c1.1 0 2-.9 2-2V5c0-1.1-.9-2-2-2zM9 17H7v-7h2v7zm4 0h-2V7h2v10zm4 0h-2v-4h2v4z\"/>\n",
              "    </g>\n",
              "</svg>\n",
              "  </button>\n",
              "\n",
              "<style>\n",
              "  .colab-df-quickchart {\n",
              "      --bg-color: #E8F0FE;\n",
              "      --fill-color: #1967D2;\n",
              "      --hover-bg-color: #E2EBFA;\n",
              "      --hover-fill-color: #174EA6;\n",
              "      --disabled-fill-color: #AAA;\n",
              "      --disabled-bg-color: #DDD;\n",
              "  }\n",
              "\n",
              "  [theme=dark] .colab-df-quickchart {\n",
              "      --bg-color: #3B4455;\n",
              "      --fill-color: #D2E3FC;\n",
              "      --hover-bg-color: #434B5C;\n",
              "      --hover-fill-color: #FFFFFF;\n",
              "      --disabled-bg-color: #3B4455;\n",
              "      --disabled-fill-color: #666;\n",
              "  }\n",
              "\n",
              "  .colab-df-quickchart {\n",
              "    background-color: var(--bg-color);\n",
              "    border: none;\n",
              "    border-radius: 50%;\n",
              "    cursor: pointer;\n",
              "    display: none;\n",
              "    fill: var(--fill-color);\n",
              "    height: 32px;\n",
              "    padding: 0;\n",
              "    width: 32px;\n",
              "  }\n",
              "\n",
              "  .colab-df-quickchart:hover {\n",
              "    background-color: var(--hover-bg-color);\n",
              "    box-shadow: 0 1px 2px rgba(60, 64, 67, 0.3), 0 1px 3px 1px rgba(60, 64, 67, 0.15);\n",
              "    fill: var(--button-hover-fill-color);\n",
              "  }\n",
              "\n",
              "  .colab-df-quickchart-complete:disabled,\n",
              "  .colab-df-quickchart-complete:disabled:hover {\n",
              "    background-color: var(--disabled-bg-color);\n",
              "    fill: var(--disabled-fill-color);\n",
              "    box-shadow: none;\n",
              "  }\n",
              "\n",
              "  .colab-df-spinner {\n",
              "    border: 2px solid var(--fill-color);\n",
              "    border-color: transparent;\n",
              "    border-bottom-color: var(--fill-color);\n",
              "    animation:\n",
              "      spin 1s steps(1) infinite;\n",
              "  }\n",
              "\n",
              "  @keyframes spin {\n",
              "    0% {\n",
              "      border-color: transparent;\n",
              "      border-bottom-color: var(--fill-color);\n",
              "      border-left-color: var(--fill-color);\n",
              "    }\n",
              "    20% {\n",
              "      border-color: transparent;\n",
              "      border-left-color: var(--fill-color);\n",
              "      border-top-color: var(--fill-color);\n",
              "    }\n",
              "    30% {\n",
              "      border-color: transparent;\n",
              "      border-left-color: var(--fill-color);\n",
              "      border-top-color: var(--fill-color);\n",
              "      border-right-color: var(--fill-color);\n",
              "    }\n",
              "    40% {\n",
              "      border-color: transparent;\n",
              "      border-right-color: var(--fill-color);\n",
              "      border-top-color: var(--fill-color);\n",
              "    }\n",
              "    60% {\n",
              "      border-color: transparent;\n",
              "      border-right-color: var(--fill-color);\n",
              "    }\n",
              "    80% {\n",
              "      border-color: transparent;\n",
              "      border-right-color: var(--fill-color);\n",
              "      border-bottom-color: var(--fill-color);\n",
              "    }\n",
              "    90% {\n",
              "      border-color: transparent;\n",
              "      border-bottom-color: var(--fill-color);\n",
              "    }\n",
              "  }\n",
              "</style>\n",
              "\n",
              "  <script>\n",
              "    async function quickchart(key) {\n",
              "      const quickchartButtonEl =\n",
              "        document.querySelector('#' + key + ' button');\n",
              "      quickchartButtonEl.disabled = true;  // To prevent multiple clicks.\n",
              "      quickchartButtonEl.classList.add('colab-df-spinner');\n",
              "      try {\n",
              "        const charts = await google.colab.kernel.invokeFunction(\n",
              "            'suggestCharts', [key], {});\n",
              "      } catch (error) {\n",
              "        console.error('Error during call to suggestCharts:', error);\n",
              "      }\n",
              "      quickchartButtonEl.classList.remove('colab-df-spinner');\n",
              "      quickchartButtonEl.classList.add('colab-df-quickchart-complete');\n",
              "    }\n",
              "    (() => {\n",
              "      let quickchartButtonEl =\n",
              "        document.querySelector('#df-8b70c644-44d0-44f3-98cd-ce9f48055251 button');\n",
              "      quickchartButtonEl.style.display =\n",
              "        google.colab.kernel.accessAllowed ? 'block' : 'none';\n",
              "    })();\n",
              "  </script>\n",
              "</div>\n",
              "    </div>\n",
              "  </div>\n"
            ]
          },
          "metadata": {},
          "execution_count": 4
        }
      ]
    },
    {
      "cell_type": "code",
      "source": [
        "train_open= train.iloc[:, 1:2].values\n"
      ],
      "metadata": {
        "id": "Fo9MGAuz0ali"
      },
      "execution_count": 5,
      "outputs": []
    },
    {
      "cell_type": "code",
      "source": [
        "#Scaling the values between 0 to 1\n",
        "from sklearn.preprocessing import MinMaxScaler\n",
        "ss= MinMaxScaler(feature_range=(0,1))\n",
        "train_open_scaled= ss.fit_transform(train_open)"
      ],
      "metadata": {
        "id": "GlzgcChM0fKA"
      },
      "execution_count": 6,
      "outputs": []
    },
    {
      "cell_type": "code",
      "source": [
        "train_open_scaled[60]"
      ],
      "metadata": {
        "colab": {
          "base_uri": "https://localhost:8080/"
        },
        "id": "2Z0NTYQ00hZV",
        "outputId": "ad03743e-12b4-4d35-cd96-ec13d0fa54f6"
      },
      "execution_count": 7,
      "outputs": [
        {
          "output_type": "execute_result",
          "data": {
            "text/plain": [
              "array([0.08627874])"
            ]
          },
          "metadata": {},
          "execution_count": 7
        }
      ]
    },
    {
      "cell_type": "code",
      "source": [
        "# Feature selection\n",
        "xtrain=[]\n",
        "ytrain=[]\n",
        "for i in range(60,len(train_open_scaled)):\n",
        "    xtrain.append(train_open_scaled[i-60:i,0])\n",
        "    ytrain.append(train_open_scaled[i,0])\n",
        "\n",
        "xtrain, ytrain = np.array(xtrain), np.array(ytrain)"
      ],
      "metadata": {
        "id": "aZKCLMRv0jP9"
      },
      "execution_count": 8,
      "outputs": []
    },
    {
      "cell_type": "code",
      "source": [
        "#Reshaping the train data to make it as input for LTSM layer input_shape(batchzise,timesteps,input_dim)\n",
        "xtrain= np.reshape(xtrain,(xtrain.shape[0],xtrain.shape[1],1))"
      ],
      "metadata": {
        "id": "QRiGg4ey0pxz"
      },
      "execution_count": 9,
      "outputs": []
    },
    {
      "cell_type": "code",
      "source": [
        "xtrain.shape"
      ],
      "metadata": {
        "colab": {
          "base_uri": "https://localhost:8080/"
        },
        "id": "xHWIiapK0sJU",
        "outputId": "26f9d902-c972-41f9-f27e-2255d8a78407"
      },
      "execution_count": 10,
      "outputs": [
        {
          "output_type": "execute_result",
          "data": {
            "text/plain": [
              "(1198, 60, 1)"
            ]
          },
          "metadata": {},
          "execution_count": 10
        }
      ]
    },
    {
      "cell_type": "markdown",
      "source": [
        "Building the LSTM Network"
      ],
      "metadata": {
        "id": "55G31pFZ01bq"
      }
    },
    {
      "cell_type": "code",
      "source": [
        "from keras.models import Sequential\n",
        "from keras.layers import LSTM\n",
        "from keras.layers import Dense\n",
        "from keras.layers import Dropout"
      ],
      "metadata": {
        "id": "9d4toRAG02a3"
      },
      "execution_count": 11,
      "outputs": []
    },
    {
      "cell_type": "code",
      "source": [
        "#initialisizng the model\n",
        "regression= Sequential()\n",
        "\n",
        "#First Input layer and LSTM layer with 0.2% dropout\n",
        "regression.add(LSTM(units=50,return_sequences=True,kernel_initializer='glorot_uniform',input_shape=(xtrain.shape[1],1)))\n",
        "regression.add(Dropout(0.2))\n",
        "\n",
        "# Where:\n",
        "#     return_sequences: Boolean. Whether to return the last output in the output sequence, or the full sequence.\n",
        "\n",
        "# Second LSTM layer with 0.2% dropout\n",
        "regression.add(LSTM(units=50,kernel_initializer='glorot_uniform',return_sequences=True))\n",
        "regression.add(Dropout(0.2))\n",
        "\n",
        "#Third LSTM layer with 0.2% dropout\n",
        "regression.add(LSTM(units=50,kernel_initializer='glorot_uniform',return_sequences=True))\n",
        "regression.add(Dropout(0.2))\n",
        "\n",
        "#Fourth LSTM layer with 0.2% dropout, we wont use return sequence true in last layers as we dont want to previous output\n",
        "regression.add(LSTM(units=50,kernel_initializer='glorot_uniform'))\n",
        "regression.add(Dropout(0.2))\n",
        "#Output layer , we wont pass any activation as its continous value model\n",
        "regression.add(Dense(units=1))\n",
        "\n",
        "#Compiling the network\n",
        "regression.compile(optimizer='adam',loss='mean_squared_error')\n",
        "\n",
        "\n",
        "#fitting the network\n",
        "regression.fit(xtrain,ytrain,batch_size=30,epochs=100)"
      ],
      "metadata": {
        "colab": {
          "base_uri": "https://localhost:8080/"
        },
        "id": "94Paea3605Hp",
        "outputId": "d028776a-548c-4cef-e639-bb2ca31be3d1"
      },
      "execution_count": 12,
      "outputs": [
        {
          "output_type": "stream",
          "name": "stdout",
          "text": [
            "Epoch 1/100\n",
            "40/40 [==============================] - 14s 144ms/step - loss: 0.0366\n",
            "Epoch 2/100\n",
            "40/40 [==============================] - 4s 109ms/step - loss: 0.0069\n",
            "Epoch 3/100\n",
            "40/40 [==============================] - 5s 123ms/step - loss: 0.0059\n",
            "Epoch 4/100\n",
            "40/40 [==============================] - 6s 142ms/step - loss: 0.0058\n",
            "Epoch 5/100\n",
            "40/40 [==============================] - 4s 111ms/step - loss: 0.0054\n",
            "Epoch 6/100\n",
            "40/40 [==============================] - 5s 126ms/step - loss: 0.0055\n",
            "Epoch 7/100\n",
            "40/40 [==============================] - 6s 139ms/step - loss: 0.0057\n",
            "Epoch 8/100\n",
            "40/40 [==============================] - 4s 110ms/step - loss: 0.0044\n",
            "Epoch 9/100\n",
            "40/40 [==============================] - 5s 128ms/step - loss: 0.0046\n",
            "Epoch 10/100\n",
            "40/40 [==============================] - 6s 137ms/step - loss: 0.0055\n",
            "Epoch 11/100\n",
            "40/40 [==============================] - 4s 110ms/step - loss: 0.0045\n",
            "Epoch 12/100\n",
            "40/40 [==============================] - 5s 131ms/step - loss: 0.0042\n",
            "Epoch 13/100\n",
            "40/40 [==============================] - 5s 134ms/step - loss: 0.0040\n",
            "Epoch 14/100\n",
            "40/40 [==============================] - 4s 108ms/step - loss: 0.0040\n",
            "Epoch 15/100\n",
            "40/40 [==============================] - 5s 131ms/step - loss: 0.0037\n",
            "Epoch 16/100\n",
            "40/40 [==============================] - 5s 130ms/step - loss: 0.0041\n",
            "Epoch 17/100\n",
            "40/40 [==============================] - 4s 109ms/step - loss: 0.0039\n",
            "Epoch 18/100\n",
            "40/40 [==============================] - 5s 136ms/step - loss: 0.0040\n",
            "Epoch 19/100\n",
            "40/40 [==============================] - 5s 129ms/step - loss: 0.0038\n",
            "Epoch 20/100\n",
            "40/40 [==============================] - 4s 108ms/step - loss: 0.0042\n",
            "Epoch 21/100\n",
            "40/40 [==============================] - 5s 137ms/step - loss: 0.0033\n",
            "Epoch 22/100\n",
            "40/40 [==============================] - 5s 124ms/step - loss: 0.0035\n",
            "Epoch 23/100\n",
            "40/40 [==============================] - 4s 108ms/step - loss: 0.0042\n",
            "Epoch 24/100\n",
            "40/40 [==============================] - 5s 137ms/step - loss: 0.0032\n",
            "Epoch 25/100\n",
            "40/40 [==============================] - 5s 124ms/step - loss: 0.0035\n",
            "Epoch 26/100\n",
            "40/40 [==============================] - 4s 108ms/step - loss: 0.0030\n",
            "Epoch 27/100\n",
            "40/40 [==============================] - 6s 140ms/step - loss: 0.0031\n",
            "Epoch 28/100\n",
            "40/40 [==============================] - 5s 124ms/step - loss: 0.0034\n",
            "Epoch 29/100\n",
            "40/40 [==============================] - 4s 109ms/step - loss: 0.0033\n",
            "Epoch 30/100\n",
            "40/40 [==============================] - 6s 142ms/step - loss: 0.0028\n",
            "Epoch 31/100\n",
            "40/40 [==============================] - 5s 120ms/step - loss: 0.0031\n",
            "Epoch 32/100\n",
            "40/40 [==============================] - 4s 107ms/step - loss: 0.0031\n",
            "Epoch 33/100\n",
            "40/40 [==============================] - 6s 141ms/step - loss: 0.0028\n",
            "Epoch 34/100\n",
            "40/40 [==============================] - 5s 122ms/step - loss: 0.0029\n",
            "Epoch 35/100\n",
            "40/40 [==============================] - 4s 108ms/step - loss: 0.0031\n",
            "Epoch 36/100\n",
            "40/40 [==============================] - 6s 141ms/step - loss: 0.0028\n",
            "Epoch 37/100\n",
            "40/40 [==============================] - 5s 122ms/step - loss: 0.0026\n",
            "Epoch 38/100\n",
            "40/40 [==============================] - 4s 108ms/step - loss: 0.0025\n",
            "Epoch 39/100\n",
            "40/40 [==============================] - 6s 143ms/step - loss: 0.0024\n",
            "Epoch 40/100\n",
            "40/40 [==============================] - 5s 120ms/step - loss: 0.0026\n",
            "Epoch 41/100\n",
            "40/40 [==============================] - 4s 109ms/step - loss: 0.0025\n",
            "Epoch 42/100\n",
            "40/40 [==============================] - 6s 145ms/step - loss: 0.0027\n",
            "Epoch 43/100\n",
            "40/40 [==============================] - 5s 119ms/step - loss: 0.0024\n",
            "Epoch 44/100\n",
            "40/40 [==============================] - 4s 110ms/step - loss: 0.0027\n",
            "Epoch 45/100\n",
            "40/40 [==============================] - 6s 147ms/step - loss: 0.0024\n",
            "Epoch 46/100\n",
            "40/40 [==============================] - 5s 118ms/step - loss: 0.0025\n",
            "Epoch 47/100\n",
            "40/40 [==============================] - 4s 111ms/step - loss: 0.0024\n",
            "Epoch 48/100\n",
            "40/40 [==============================] - 6s 151ms/step - loss: 0.0022\n",
            "Epoch 49/100\n",
            "40/40 [==============================] - 5s 117ms/step - loss: 0.0025\n",
            "Epoch 50/100\n",
            "40/40 [==============================] - 4s 111ms/step - loss: 0.0023\n",
            "Epoch 51/100\n",
            "40/40 [==============================] - 6s 155ms/step - loss: 0.0023\n",
            "Epoch 52/100\n",
            "40/40 [==============================] - 5s 113ms/step - loss: 0.0024\n",
            "Epoch 53/100\n",
            "40/40 [==============================] - 4s 110ms/step - loss: 0.0024\n",
            "Epoch 54/100\n",
            "40/40 [==============================] - 6s 159ms/step - loss: 0.0026\n",
            "Epoch 55/100\n",
            "40/40 [==============================] - 4s 109ms/step - loss: 0.0025\n",
            "Epoch 56/100\n",
            "40/40 [==============================] - 4s 108ms/step - loss: 0.0020\n",
            "Epoch 57/100\n",
            "40/40 [==============================] - 6s 156ms/step - loss: 0.0020\n",
            "Epoch 58/100\n",
            "40/40 [==============================] - 4s 109ms/step - loss: 0.0023\n",
            "Epoch 59/100\n",
            "40/40 [==============================] - 4s 109ms/step - loss: 0.0024\n",
            "Epoch 60/100\n",
            "40/40 [==============================] - 6s 159ms/step - loss: 0.0021\n",
            "Epoch 61/100\n",
            "40/40 [==============================] - 4s 110ms/step - loss: 0.0021\n",
            "Epoch 62/100\n",
            "40/40 [==============================] - 4s 109ms/step - loss: 0.0021\n",
            "Epoch 63/100\n",
            "40/40 [==============================] - 6s 159ms/step - loss: 0.0021\n",
            "Epoch 64/100\n",
            "40/40 [==============================] - 4s 110ms/step - loss: 0.0020\n",
            "Epoch 65/100\n",
            "40/40 [==============================] - 4s 110ms/step - loss: 0.0020\n",
            "Epoch 66/100\n",
            "40/40 [==============================] - 6s 158ms/step - loss: 0.0019\n",
            "Epoch 67/100\n",
            "40/40 [==============================] - 4s 111ms/step - loss: 0.0020\n",
            "Epoch 68/100\n",
            "40/40 [==============================] - 4s 111ms/step - loss: 0.0022\n",
            "Epoch 69/100\n",
            "40/40 [==============================] - 6s 158ms/step - loss: 0.0021\n",
            "Epoch 70/100\n",
            "40/40 [==============================] - 4s 109ms/step - loss: 0.0018\n",
            "Epoch 71/100\n",
            "40/40 [==============================] - 4s 110ms/step - loss: 0.0018\n",
            "Epoch 72/100\n",
            "40/40 [==============================] - 6s 156ms/step - loss: 0.0017\n",
            "Epoch 73/100\n",
            "40/40 [==============================] - 4s 111ms/step - loss: 0.0020\n",
            "Epoch 74/100\n",
            "40/40 [==============================] - 5s 116ms/step - loss: 0.0020\n",
            "Epoch 75/100\n",
            "40/40 [==============================] - 6s 152ms/step - loss: 0.0020\n",
            "Epoch 76/100\n",
            "40/40 [==============================] - 4s 111ms/step - loss: 0.0019\n",
            "Epoch 77/100\n",
            "40/40 [==============================] - 5s 122ms/step - loss: 0.0020\n",
            "Epoch 78/100\n",
            "40/40 [==============================] - 6s 146ms/step - loss: 0.0017\n",
            "Epoch 79/100\n",
            "40/40 [==============================] - 4s 110ms/step - loss: 0.0017\n",
            "Epoch 80/100\n",
            "40/40 [==============================] - 5s 125ms/step - loss: 0.0017\n",
            "Epoch 81/100\n",
            "40/40 [==============================] - 6s 140ms/step - loss: 0.0016\n",
            "Epoch 82/100\n",
            "40/40 [==============================] - 4s 109ms/step - loss: 0.0016\n",
            "Epoch 83/100\n",
            "40/40 [==============================] - 5s 125ms/step - loss: 0.0016\n",
            "Epoch 84/100\n",
            "40/40 [==============================] - 6s 140ms/step - loss: 0.0015\n",
            "Epoch 85/100\n",
            "40/40 [==============================] - 4s 110ms/step - loss: 0.0017\n",
            "Epoch 86/100\n",
            "40/40 [==============================] - 5s 131ms/step - loss: 0.0016\n",
            "Epoch 87/100\n",
            "40/40 [==============================] - 5s 136ms/step - loss: 0.0016\n",
            "Epoch 88/100\n",
            "40/40 [==============================] - 4s 110ms/step - loss: 0.0017\n",
            "Epoch 89/100\n",
            "40/40 [==============================] - 5s 133ms/step - loss: 0.0014\n",
            "Epoch 90/100\n",
            "40/40 [==============================] - 5s 135ms/step - loss: 0.0015\n",
            "Epoch 91/100\n",
            "40/40 [==============================] - 4s 111ms/step - loss: 0.0015\n",
            "Epoch 92/100\n",
            "40/40 [==============================] - 5s 137ms/step - loss: 0.0014\n",
            "Epoch 93/100\n",
            "40/40 [==============================] - 5s 128ms/step - loss: 0.0016\n",
            "Epoch 94/100\n",
            "40/40 [==============================] - 4s 110ms/step - loss: 0.0016\n",
            "Epoch 95/100\n",
            "40/40 [==============================] - 6s 139ms/step - loss: 0.0016\n",
            "Epoch 96/100\n",
            "40/40 [==============================] - 5s 125ms/step - loss: 0.0015\n",
            "Epoch 97/100\n",
            "40/40 [==============================] - 4s 108ms/step - loss: 0.0014\n",
            "Epoch 98/100\n",
            "40/40 [==============================] - 5s 138ms/step - loss: 0.0014\n",
            "Epoch 99/100\n",
            "40/40 [==============================] - 5s 123ms/step - loss: 0.0016\n",
            "Epoch 100/100\n",
            "40/40 [==============================] - 4s 109ms/step - loss: 0.0015\n"
          ]
        },
        {
          "output_type": "execute_result",
          "data": {
            "text/plain": [
              "<keras.src.callbacks.History at 0x7a4a781d9b10>"
            ]
          },
          "metadata": {},
          "execution_count": 12
        }
      ]
    },
    {
      "cell_type": "code",
      "source": [
        "test_open= test.iloc[:, 1:2].values #taking  open price\n",
        "total= pd.concat([train['Open'],test['Open']],axis=0) # Concating train and test and then will take last 60 train point\n",
        "test_input = total[len(total)-len(test)-60:].values\n",
        "test_input= test_input.reshape(-1,1) # reshaping it to get it transformed\n",
        "test_input= ss.transform(test_input)"
      ],
      "metadata": {
        "id": "vsOjRs6M2tVv"
      },
      "execution_count": 13,
      "outputs": []
    },
    {
      "cell_type": "code",
      "source": [
        "xtest= []\n",
        "for i in range(60,80):\n",
        "    xtest.append(test_input[i-60:i,0]) #creating input for lstm prediction"
      ],
      "metadata": {
        "id": "eW4kb9xj2zQ9"
      },
      "execution_count": 14,
      "outputs": []
    },
    {
      "cell_type": "code",
      "source": [
        "xtest= np.array(xtest)"
      ],
      "metadata": {
        "id": "ht9ONU_S219z"
      },
      "execution_count": 15,
      "outputs": []
    },
    {
      "cell_type": "code",
      "source": [
        "xtest= np.reshape(xtest,(xtest.shape[0],xtest.shape[1],1))\n",
        "predicted_value= regression.predict(xtest)"
      ],
      "metadata": {
        "colab": {
          "base_uri": "https://localhost:8080/"
        },
        "id": "pk-dA6q6240u",
        "outputId": "d323aee4-5583-42d3-d47a-304f2ba100ac"
      },
      "execution_count": 16,
      "outputs": [
        {
          "output_type": "stream",
          "name": "stdout",
          "text": [
            "1/1 [==============================] - 1s 1s/step\n"
          ]
        }
      ]
    },
    {
      "cell_type": "code",
      "source": [
        "predicted_value= ss.inverse_transform(predicted_value)"
      ],
      "metadata": {
        "id": "nheRqQLn2_hc"
      },
      "execution_count": 17,
      "outputs": []
    },
    {
      "cell_type": "code",
      "source": [
        "plt.figure(figsize=(20,10))\n",
        "plt.plot(test_open,'red',label='Real Prices')\n",
        "plt.plot(predicted_value,'blue',label='Predicted Prices')\n",
        "plt.xlabel('Time')\n",
        "plt.ylabel('Prices')\n",
        "plt.title('Real vs Predicted Prices')\n",
        "plt.legend(loc='best', fontsize=20)"
      ],
      "metadata": {
        "colab": {
          "base_uri": "https://localhost:8080/",
          "height": 909
        },
        "id": "VTdZsUir3C81",
        "outputId": "8d83f8de-bb87-4a04-fea4-cb8cc4b51ab5"
      },
      "execution_count": 18,
      "outputs": [
        {
          "output_type": "execute_result",
          "data": {
            "text/plain": [
              "<matplotlib.legend.Legend at 0x7a4a71dc77f0>"
            ]
          },
          "metadata": {},
          "execution_count": 18
        },
        {
          "output_type": "display_data",
          "data": {
            "text/plain": [
              "<Figure size 2000x1000 with 1 Axes>"
            ],
            "image/png": "[encoded data removed]"
          },
          "metadata": {}
        }
      ]
    }
  ]
}